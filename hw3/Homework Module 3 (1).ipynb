{
 "cells": [
  {
   "cell_type": "markdown",
   "metadata": {},
   "source": [
    "# Домашнее задание по модулю 3"
   ]
  },
  {
   "cell_type": "markdown",
   "metadata": {},
   "source": [
    "Сегодня мы будем определять качество вина по его параметрам!\n",
    "\n",
    "Набор данных, которые мы сегодня будем использовать, похож на один из классических датасетов, используемых для проверки алгоритмов машинного обучения. Вот ссылка на оригинальный датасет и его описание: https://archive.ics.uci.edu/ml/datasets/wine+quality\n",
    "\n",
    "Мы с вами будем использовать немного модифицированную версию датасета; не забудьте скачать его, а также набор данных для проверки из материалов к модулю. "
   ]
  },
  {
   "cell_type": "code",
   "execution_count": null,
   "metadata": {
    "scrolled": true
   },
   "outputs": [],
   "source": [
    "#импортируем стандартные библиотеки\n",
    "%matplotlib inline\n",
    "import pandas as pd\n",
    "from matplotlib import pyplot as plt"
   ]
  },
  {
   "cell_type": "markdown",
   "metadata": {},
   "source": [
    "Давайте посмотрим на датасет"
   ]
  },
  {
   "cell_type": "code",
   "execution_count": null,
   "metadata": {
    "scrolled": true
   },
   "outputs": [],
   "source": [
    "data = pd.read_csv('hw_data.csv')\n",
    "data.head()"
   ]
  },
  {
   "cell_type": "markdown",
   "metadata": {},
   "source": [
    "Как видите, у нас есть разнообразные параметры вина, такие как уровень pH, уровень алкоголя и тд.\n",
    "\n",
    "Последним параметром идет качество — усредненная оценка вина от нескольких дегустаторов. В отличие от оригинального датасета, качество у нас может быть дробным. \n",
    "\n",
    "Наша задача — построить модель машинного обучения, которая сможет заменить этих самых дегустаторов. "
   ]
  },
  {
   "cell_type": "markdown",
   "metadata": {},
   "source": [
    " ##### Предобработка данных\n",
    " Сначала выделим целевую функцию из нашего набора данных и удалим ее из самих данных.\n",
    " "
   ]
  },
  {
   "cell_type": "code",
   "execution_count": null,
   "metadata": {
    "scrolled": true
   },
   "outputs": [],
   "source": [
    "labels = data['quality']\n",
    "del(data['quality'])"
   ]
  },
  {
   "cell_type": "markdown",
   "metadata": {},
   "source": [
    "Раделим нашу выборку на тренировочную и тестовую выборку. \n",
    "\n",
    "##### Задание: импортируйте нужную функцию из библиотеки sklearn и вызовите ее \n",
    "Пример можно посмотреть в видео №9."
   ]
  },
  {
   "cell_type": "code",
   "execution_count": null,
   "metadata": {
    "scrolled": true
   },
   "outputs": [],
   "source": [
    "from <библиотека> import <функция>\n",
    "data_train, data_test, labels_train, labels_test = <вставьте сюда нужный вызов>"
   ]
  },
  {
   "cell_type": "markdown",
   "metadata": {},
   "source": [
    "##### Построим модель линейной регрессии\n",
    "1) Импортируем модель из библиотеки sklearn"
   ]
  },
  {
   "cell_type": "code",
   "execution_count": null,
   "metadata": {
    "scrolled": true
   },
   "outputs": [],
   "source": [
    "from sklearn.linear_model import LinearRegression"
   ]
  },
  {
   "cell_type": "markdown",
   "metadata": {},
   "source": [
    "2) Обучим модель на тестовых данных"
   ]
  },
  {
   "cell_type": "code",
   "execution_count": null,
   "metadata": {
    "scrolled": true
   },
   "outputs": [],
   "source": [
    "model = LinearRegression()\n",
    "model.fit(data_train, labels_train)"
   ]
  },
  {
   "cell_type": "markdown",
   "metadata": {},
   "source": [
    "3) Выполним предсказание на тестовых данных"
   ]
  },
  {
   "cell_type": "code",
   "execution_count": null,
   "metadata": {
    "scrolled": true
   },
   "outputs": [],
   "source": [
    "prediction = model.predict(data_test)"
   ]
  },
  {
   "cell_type": "markdown",
   "metadata": {},
   "source": [
    "4) Посчитаем метрику \"средний квадрат ошибки\". Для этого воспользуемся стандартной функцией из библиотеки sklearn"
   ]
  },
  {
   "cell_type": "code",
   "execution_count": null,
   "metadata": {
    "scrolled": true
   },
   "outputs": [],
   "source": [
    "from sklearn.metrics import mean_squared_error\n",
    "mean_squared_error(prediction, labels_test)"
   ]
  },
  {
   "cell_type": "markdown",
   "metadata": {},
   "source": [
    "### Задание: обучить \"хорошую\" модель\n",
    "Замените линейную регрессию на другие регрессионные модели, упоминавшиеся в занятии. Попробуйте такие модели, как Дерево принятия решений (DecisionTree) и Случайные Леса (RandomForest).\n",
    "\n",
    "Для дерева принятия решений попробуйте разные параметры глубины дерева (max_depth)\n",
    "\n",
    "Для Случайного леса можно попробовать разную глубину дерева (max_dept) и количество деревьев (n_estimators)\n",
    "\n",
    "Для получения зачета вам необходимо обучить модель, которая покажет результат среднего квадрата ошибки отклонения менее, чем 0.06. \n",
    "\n",
    "Примеры обучения этих моделей ищите в видео №10 "
   ]
  },
  {
   "cell_type": "markdown",
   "metadata": {},
   "source": [
    "# Выполним предсказание для \"контрольной\" выборки\n",
    "Загрузим \"контрольный\" датасет и выполним предсказание"
   ]
  },
  {
   "cell_type": "code",
   "execution_count": null,
   "metadata": {},
   "outputs": [],
   "source": [
    "data_control = pd.read_csv('data_to_estimate.csv')\n",
    "prediction = model.predict(data_control)"
   ]
  },
  {
   "cell_type": "markdown",
   "metadata": {},
   "source": [
    "Распечатаем разультат:\n",
    "### Строчку с распечатанными предсказаниями скопируйте в EdX\n",
    "##### Результат будет засчитан, если метрика mean_squared_error по контрольным данным оказалась меньше 0.06"
   ]
  },
  {
   "cell_type": "code",
   "execution_count": null,
   "metadata": {},
   "outputs": [],
   "source": [
    "print(\",\".join([\"{:.3f}\".format(num) for num in prediction]))"
   ]
  }
 ],
 "metadata": {
  "kernelspec": {
   "display_name": "Python 3",
   "language": "python",
   "name": "python3"
  },
  "language_info": {
   "codemirror_mode": {
    "name": "ipython",
    "version": 3
   },
   "file_extension": ".py",
   "mimetype": "text/x-python",
   "name": "python",
   "nbconvert_exporter": "python",
   "pygments_lexer": "ipython3",
   "version": "3.6.5"
  }
 },
 "nbformat": 4,
 "nbformat_minor": 2
}
