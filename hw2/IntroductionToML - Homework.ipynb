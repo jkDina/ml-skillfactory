{
 "cells": [
  {
   "cell_type": "markdown",
   "metadata": {},
   "source": [
    "# Домашнее задание к модулю \"введение в машинное обучение\""
   ]
  },
  {
   "cell_type": "markdown",
   "metadata": {},
   "source": [
    "### 1. Для начала импортируем стандартные библиотеки и настроим matplotlib:"
   ]
  },
  {
   "cell_type": "code",
   "execution_count": null,
   "metadata": {},
   "outputs": [],
   "source": [
    "from matplotlib import pyplot as plt\n",
    "import pandas as pd\n",
    "\n",
    "%matplotlib inline"
   ]
  },
  {
   "cell_type": "markdown",
   "metadata": {},
   "source": [
    "### 2. Загрузим датасет и выделим из него целевую функцию:"
   ]
  },
  {
   "cell_type": "code",
   "execution_count": null,
   "metadata": {},
   "outputs": [],
   "source": [
    "data = pd.read_csv('credit_homework.csv', index_col='id')\n",
    "target = data['Вернул кредит']\n",
    "del(data['Вернул кредит'])"
   ]
  },
  {
   "cell_type": "markdown",
   "metadata": {},
   "source": [
    "### 3. Выделим часть даннх для контроля качества модели. \n",
    "Для этого мы воспользуемся функцие train_test_split из библиотеки sklearn\n",
    "\n",
    "Документация:\n",
    "http://scikit-learn.org/stable/modules/generated/sklearn.model_selection.train_test_split.html\n",
    "\n",
    "Подробно функция будет разобрана следующих модулях нашего курса\n",
    "\n",
    "Параметр random_state не обязателен, он нужен чтобы у всех студентов функция отработала одинаковым образом"
   ]
  },
  {
   "cell_type": "code",
   "execution_count": null,
   "metadata": {},
   "outputs": [],
   "source": [
    "from sklearn.model_selection import train_test_split\n",
    "\n",
    "train_data, control_data, train_target, control_target =\\\n",
    "                        train_test_split(data, target, random_state=31337)"
   ]
  },
  {
   "cell_type": "markdown",
   "metadata": {},
   "source": [
    "### 4. Обучим дерево принятия решений.\n",
    "\n",
    "Параметр max_depth определеяет максимальную высоту дерева принятия решений. \n",
    "\n",
    "Параметр random_state который передается при создании дерева не обязателен, он нужен для того чтобы у всех студентов дерево получилось одинаковым."
   ]
  },
  {
   "cell_type": "code",
   "execution_count": null,
   "metadata": {},
   "outputs": [],
   "source": [
    "from sklearn.tree import DecisionTreeClassifier\n",
    "model = DecisionTreeClassifier(max_depth=3, random_state=31337)\n",
    "model.fit(train_data, train_target)"
   ]
  },
  {
   "cell_type": "markdown",
   "metadata": {},
   "source": [
    "### 5. Отрисуем обученное дерево принятия решений. \n",
    "\n",
    "Для этого нам понадобится модуль plot_tree.py который вы можете скачать со страницы домашнего задания. Убедитесь что данный файл лежит в той же папке, что и данный ноутбук.\n"
   ]
  },
  {
   "cell_type": "code",
   "execution_count": null,
   "metadata": {},
   "outputs": [],
   "source": [
    "from plot_tree import plot_tree\n",
    "plot_tree(model, feature_names=data.columns, class_names=['не вернет', 'вернет'])"
   ]
  },
  {
   "cell_type": "markdown",
   "metadata": {},
   "source": [
    "### 6. Оценим качество работы нашей модели. \n",
    "Для этого предскажем вернет ли пользователь кредит по отдельности на тренировчной и контрольной выборке.\n",
    "Для того чтобоы оценить точность воспользуемся функцие accuracy_score из библиотеки sklearn. \n",
    "\n",
    "Подробно метрики оценки качества моделей классификации мы рассмотрим в 3м модуле. \n"
   ]
  },
  {
   "cell_type": "code",
   "execution_count": null,
   "metadata": {},
   "outputs": [],
   "source": [
    "from sklearn.metrics import accuracy_score\n",
    "\n",
    "train_predictions = model.predict(train_data)\n",
    "control_predictions = model.predict(control_data)\n",
    "\n",
    "train_score = accuracy_score(train_target, train_predictions, normalize=True)\n",
    "control_score = accuracy_score(control_target, control_predictions, normalize=True)\n",
    "\n",
    "print(\"Точность работы классификатора на тренировочной выборке: {}%\".format(train_score * 100))\n",
    "print(\"Точность работы классификатора на контрольной выборке: {}%\".format(control_score * 100))"
   ]
  },
  {
   "cell_type": "markdown",
   "metadata": {},
   "source": [
    "# Задание №1: поиск оптимальной высоты дерева"
   ]
  },
  {
   "cell_type": "markdown",
   "metadata": {},
   "source": [
    "В цикле переберем возможные значения высоты дерева и оценим значения функции качества на тренировочной и тестовой выборках. \n",
    "\n",
    "Вам необходимо модифицировать строчку, в которой создается модель, передав в нее значение текущей высоты дерева.\n",
    "\n",
    "Введите в учебную платформу высоту дерева при которой достигается максимальное качество модели на контрольных данных.\n",
    "\n",
    "Важно: **НЕ меняйте значение параметра random_state!** оно нужно чтобы дерево получилось таким же как у всех.\n",
    "\n",
    "После того как вы получите ответ - **скопируйте его и вставьте в учебную платформу EdX** на шаге \"Домашнее задание\". Кстати, наша учебная платформа построена на движке EdX, в будущем мы иногда будем просто упоминать ее как EdX).\n",
    "\n",
    "#### Подсказки :\n",
    "- Воспользуйтесь примером из пункта №4 (обратите внимание на параметр max_depth)\n",
    "- Не подставляйте конкретное значение (например *max_depth=20* - не правильно)\n",
    "- Вам понадобится использовать переменную цикла (current_depth)\n",
    "\n",
    "\n",
    "    "
   ]
  },
  {
   "cell_type": "code",
   "execution_count": null,
   "metadata": {},
   "outputs": [],
   "source": [
    "accuracy_train = []\n",
    "accuracy_control = []\n",
    "depth = []\n",
    "for current_depth in range(1, 20):\n",
    "    depth.append(current_depth)\n",
    "    \n",
    "    #Модифицируйте создание классификатора передав ему нужное значение максимальной высоты\n",
    "\n",
    "    \n",
    "    model = DecisionTreeClassifier(random_state=31337)\n",
    "    model.fit(train_data, train_target)\n",
    "    train_predictions = model.predict(train_data)\n",
    "    control_predictions = model.predict(control_data)\n",
    "    accuracy_train.append(accuracy_score(train_predictions, train_target))\n",
    "    accuracy_control.append(accuracy_score(control_predictions, control_target))\n",
    "    print(\"max_depth: {}, train_score:{}, control_score:{}\"\\\n",
    "                 .format(current_depth, accuracy_train[-1], accuracy_control[-1])\n",
    "         )\n",
    "\n",
    "    \n",
    "\n",
    "plt.plot(depth, accuracy_train, color='red')\n",
    "plt.plot(depth, accuracy_control, color='blue')\n"
   ]
  },
  {
   "cell_type": "markdown",
   "metadata": {},
   "source": [
    "# Задание №2\n",
    "Это задание с кросс-проверкой(студенты проверяют студентов)\n",
    "Как вы думаете, почему с увеличением высоты дерева качество предсказаний на тренировочной выборке(красный график) всегда растет, а на контрольной сначала растет,  а потом начинает падать?\n",
    "\n",
    "Ответ введите в системе EdX"
   ]
  },
  {
   "cell_type": "code",
   "execution_count": null,
   "metadata": {},
   "outputs": [],
   "source": []
  }
 ],
 "metadata": {
  "anaconda-cloud": {},
  "kernelspec": {
   "display_name": "Python 3",
   "language": "python",
   "name": "python3"
  },
  "language_info": {
   "codemirror_mode": {
    "name": "ipython",
    "version": 3
   },
   "file_extension": ".py",
   "mimetype": "text/x-python",
   "name": "python",
   "nbconvert_exporter": "python",
   "pygments_lexer": "ipython3",
   "version": "3.6.5"
  }
 },
 "nbformat": 4,
 "nbformat_minor": 2
}
